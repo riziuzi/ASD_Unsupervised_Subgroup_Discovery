{
 "cells": [
  {
   "cell_type": "markdown",
   "metadata": {},
   "source": [
    "### Data Loading"
   ]
  },
  {
   "cell_type": "code",
   "execution_count": 1,
   "metadata": {},
   "outputs": [],
   "source": [
    "import pandas as pd\n",
    "import matplotlib.pyplot as plt"
   ]
  },
  {
   "cell_type": "code",
   "execution_count": 2,
   "metadata": {},
   "outputs": [
    {
     "data": {
      "text/plain": [
       "((33, 51), (33, 51), (33, 51), (33, 51))"
      ]
     },
     "execution_count": 2,
     "metadata": {},
     "output_type": "execute_result"
    }
   ],
   "source": [
    "data_fa = pd.read_excel(\"sdsu_dti.xlsx\", sheet_name=\"FA\")\n",
    "data_ad= pd.read_excel(\"sdsu_dti.xlsx\", sheet_name=\"AD\")\n",
    "data_md = pd.read_excel(\"sdsu_dti.xlsx\", sheet_name=\"MD\")\n",
    "data_rd = pd.read_excel(\"sdsu_dti.xlsx\", sheet_name=\"RD\")\n",
    "\n",
    "(data_fa.shape, data_ad.shape, data_md.shape, data_rd.shape)"
   ]
  },
  {
   "cell_type": "markdown",
   "metadata": {},
   "source": [
    "### Visualization \n",
    "\n",
    "**Issue** How to visualise 200 Dimensional data?\n",
    "- Reduce Dimensions: Use techniques like PCA or t-SNE to reduce dimensions.\n",
    "- Plot Pairs: Create scatter plots for feature pairs to spot patterns.\n",
    "- Heatmap: Display correlation matrix as a heatmap.\n",
    "- Parallel Coordinates: Plot multiple features on parallel axes.\n",
    "- Box Plots: Show feature distributions using box plots.\n",
    "- Histograms: Display frequency distribution of individual features.\n",
    "- Violin Plots: Combine box plots and kernel density plots.\n",
    "- Feature Importance: Use bar plots to show feature importance.\n",
    "- Interactive Tools: Utilize tools like Plotly for dynamic visualizations.\n"
   ]
  },
  {
   "cell_type": "code",
   "execution_count": 3,
   "metadata": {},
   "outputs": [],
   "source": [
    "import plotly.express as px"
   ]
  },
  {
   "cell_type": "code",
   "execution_count": null,
   "metadata": {},
   "outputs": [],
   "source": [
    "px.scatter_matrix(data_ad)  # NOt memory efficient, "
   ]
  },
  {
   "cell_type": "markdown",
   "metadata": {},
   "source": [
    "### K-Means clustering\n"
   ]
  },
  {
   "cell_type": "code",
   "execution_count": null,
   "metadata": {},
   "outputs": [],
   "source": [
    "from sklearn.cluster import KMeans \n",
    "\n",
    "kmeans = KMeans (n_clusters = 5)\n",
    "kmeans.fit(np.array([data_fa , data_rd]))\n"
   ]
  },
  {
   "cell_type": "markdown",
   "metadata": {},
   "source": []
  }
 ],
 "metadata": {
  "kernelspec": {
   "display_name": "Python 3.6 (tensorflow)",
   "language": "python",
   "name": "tensorflow"
  },
  "language_info": {
   "codemirror_mode": {
    "name": "ipython",
    "version": 3
   },
   "file_extension": ".py",
   "mimetype": "text/x-python",
   "name": "python",
   "nbconvert_exporter": "python",
   "pygments_lexer": "ipython3",
   "version": "3.8.2"
  },
  "orig_nbformat": 4
 },
 "nbformat": 4,
 "nbformat_minor": 2
}
